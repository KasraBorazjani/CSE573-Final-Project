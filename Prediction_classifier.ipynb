{
 "cells": [
  {
   "attachments": {},
   "cell_type": "markdown",
   "metadata": {},
   "source": [
    "# Import Libraries"
   ]
  },
  {
   "cell_type": "code",
   "execution_count": 1,
   "metadata": {},
   "outputs": [],
   "source": [
    "import os\n",
    "import pandas as pd\n",
    "import glob\n",
    "import numpy as np\n",
    "from sklearn.preprocessing import StandardScaler\n",
    "from sklearn.cluster import KMeans\n",
    "import torch\n",
    "import gc\n",
    "from torch import nn\n",
    "import torch.optim as optim\n",
    "from torch.utils.data import DataLoader\n",
    "from torch.optim.lr_scheduler import ReduceLROnPlateau\n",
    "import matplotlib.pyplot as plt\n",
    "import seaborn as sns\n",
    "import pickle\n",
    "from sklearn.metrics import confusion_matrix\n",
    "\n",
    "from misl_dataset import train_valid_test_split"
   ]
  },
  {
   "cell_type": "code",
   "execution_count": 29,
   "metadata": {},
   "outputs": [
    {
     "name": "stdout",
     "output_type": "stream",
     "text": [
      "I work\n"
     ]
    }
   ],
   "source": [
    "!python ./test_kasra.py"
   ]
  },
  {
   "cell_type": "code",
   "execution_count": 2,
   "metadata": {},
   "outputs": [
    {
     "data": {
      "text/plain": [
       "0"
      ]
     },
     "execution_count": 2,
     "metadata": {},
     "output_type": "execute_result"
    }
   ],
   "source": [
    "device = torch.device('cpu')\n",
    "gc.collect()"
   ]
  },
  {
   "attachments": {},
   "cell_type": "markdown",
   "metadata": {},
   "source": [
    "## Extracting the Patches from the WSI"
   ]
  },
  {
   "cell_type": "code",
   "execution_count": null,
   "metadata": {},
   "outputs": [],
   "source": [
    "!python ./extract_patches.py"
   ]
  },
  {
   "attachments": {},
   "cell_type": "markdown",
   "metadata": {},
   "source": [
    "## VGG-16 Feature Extraction"
   ]
  },
  {
   "cell_type": "code",
   "execution_count": null,
   "metadata": {},
   "outputs": [],
   "source": [
    "!python ./vgg16_feature_extraction.py"
   ]
  },
  {
   "attachments": {},
   "cell_type": "markdown",
   "metadata": {},
   "source": [
    "## K-Means Clustering"
   ]
  },
  {
   "cell_type": "code",
   "execution_count": 2,
   "metadata": {},
   "outputs": [
    {
     "ename": "SyntaxError",
     "evalue": "expected ':' (2866660155.py, line 12)",
     "output_type": "error",
     "traceback": [
      "\u001b[1;36m  Cell \u001b[1;32mIn [2], line 12\u001b[1;36m\u001b[0m\n\u001b[1;33m    if os.path.exists()\u001b[0m\n\u001b[1;37m                       ^\u001b[0m\n\u001b[1;31mSyntaxError\u001b[0m\u001b[1;31m:\u001b[0m expected ':'\n"
     ]
    }
   ],
   "source": [
    "def K_means_clustering(feature, k):\n",
    "    feature = np.array(feature)\n",
    "    kmeans = KMeans(n_clusters = k, init = 'k-means++', max_iter = 300, n_init = 10, random_state = 0)\n",
    "    kmeans.fit(feature)\n",
    "    with open(\"Existing_model.pkl\", \"wb\") as f:\n",
    "        pickle.dump(kmeans, f)\n",
    "    cluster_assignments = kmeans.labels_\n",
    "    centroid = kmeans.cluster_centers_\n",
    "     \n",
    "    # Calculating the sum of the intra-cluster distances\n",
    "    inertia = kmeans.inertia_\n",
    "    return cluster_assignments, inertia, centroid\n",
    "\n",
    "vgg_features = []\n",
    "pid = []\n",
    "patient_path = './new_csv/'\n",
    "patient_list =  os.listdir(patient_path)\n",
    "patient_list.pop(patient_list.index('.DS_Store'))\n",
    "for name in patient_list:\n",
    "    df = pd.read_csv(os.path.join(patient_path, name))\n",
    "    name = name.lower()\n",
    "    pid.append([name[:12]] * len(df))\n",
    "    vgg_features.append(df)\n",
    "vgg_features = pd.concat(vgg_features, ignore_index = True)\n",
    "pid = sum(pid, [])\n",
    "\n",
    "vgg_features = vgg_features.drop(columns = \"Unnamed: 0\")\n",
    "\n",
    "if os.path.exists(\"./Existing_cluster,pkl\"):\n",
    "    with open(\"Existing_model.pkl\", \"rb\") as f:\n",
    "        existing_model = pickle.load(f)\n",
    "    \n",
    "    cluster_assign = existing_model.predict(vgg_features)\n",
    "    \n",
    "else:\n",
    "    cluster_assign, performance, centroid = K_means_clustering(feature = vgg_features, k = 10)\n",
    "\n",
    "print(cluster_assign.shape)"
   ]
  },
  {
   "cell_type": "code",
   "execution_count": null,
   "metadata": {},
   "outputs": [],
   "source": [
    "vgg_features['cluster_num'] = cluster_assign\n",
    "vgg_features['pid'] = pid\n",
    "\n",
    "vgg_features.to_csv('clustered_data.csv', index = False)"
   ]
  },
  {
   "attachments": {},
   "cell_type": "markdown",
   "metadata": {},
   "source": [
    "## Classifier"
   ]
  },
  {
   "attachments": {},
   "cell_type": "markdown",
   "metadata": {},
   "source": [
    "Constants"
   ]
  },
  {
   "cell_type": "code",
   "execution_count": 3,
   "metadata": {},
   "outputs": [],
   "source": [
    "epochs = 30\n",
    "batch_size = 1\n",
    "lr = 0.001\n",
    "num_clusters = 10"
   ]
  },
  {
   "attachments": {},
   "cell_type": "markdown",
   "metadata": {},
   "source": [
    "# Model Definition"
   ]
  },
  {
   "cell_type": "code",
   "execution_count": 4,
   "metadata": {},
   "outputs": [],
   "source": [
    "import torch.nn as nn\n",
    "import torch\n",
    "\n",
    "class DeepAttnMIL_Surv(nn.Module):\n",
    "    \"\"\"\n",
    "    Deep AttnMISL Model definition\n",
    "    \"\"\"\n",
    "    def __init__(self, cluster_num):\n",
    "        super(DeepAttnMIL_Surv, self).__init__()\n",
    "        self.embedding_net = nn.Sequential(nn.Conv1d(1000, 64, 1),\n",
    "                                     nn.ReLU(),\n",
    "                                     nn.AdaptiveAvgPool1d(1)\n",
    "                                     )\n",
    "\n",
    "        self.attention = nn.Sequential(\n",
    "            nn.Linear(64, 32), # V\n",
    "            nn.Tanh(),\n",
    "            nn.Linear(32, 1)  # W\n",
    "        )\n",
    "\n",
    "        self.fc6 = nn.Sequential(\n",
    "            nn.Linear(64, 32),\n",
    "            nn.ReLU(),\n",
    "            nn.Dropout(p=0.5),\n",
    "            nn.Linear(32,2)\n",
    "        )\n",
    "        self.cluster_num = cluster_num\n",
    "\n",
    "    def masked_softmax(self, x, mask=None):\n",
    "        \"\"\"\n",
    "        Performs masked softmax, as simply masking post-softmax can be\n",
    "        inaccurate\n",
    "        :param x: [batch_size, num_items]\n",
    "        :param mask: [batch_size, num_items]\n",
    "        :return:\n",
    "        \"\"\"\n",
    "        if mask is not None:\n",
    "            mask = mask.float()\n",
    "        if mask is not None:\n",
    "            x_masked = x * mask + (1 - 1 / (mask+1e-5))\n",
    "        else:\n",
    "            x_masked = x\n",
    "        x_max = x_masked.max(1)[0]\n",
    "        x_exp = (x - x_max.unsqueeze(-1)).exp()\n",
    "        if mask is not None:\n",
    "            x_exp = x_exp * mask.float()\n",
    "        return x_exp / x_exp.sum(1).unsqueeze(-1)\n",
    "\n",
    "    def forward(self, x, mask):\n",
    "\n",
    "        \" x is a tensor list\"\n",
    "        res = []\n",
    "        for i in range(self.cluster_num):\n",
    "                \n",
    "            hh = x[i]\n",
    "            \n",
    "            hh = hh.unsqueeze(0).reshape(1, 1000, len(hh))\n",
    "            \n",
    "            output = self.embedding_net(hh)\n",
    "            \n",
    "            output = output.view(output.size()[0], -1)\n",
    "            \n",
    "            res.append(output)\n",
    "\n",
    "        h = torch.cat(res)\n",
    "\n",
    "        b = h.size(0)\n",
    "        c = h.size(1)\n",
    "\n",
    "        h = h.view(b, c)\n",
    "        \n",
    "        A = self.attention(h)\n",
    "        A = torch.transpose(A, 1, 0)  # KxN\n",
    "        \n",
    "        A = self.masked_softmax(A, mask)\n",
    "\n",
    "        M = torch.mm(A, h)  # KxL\n",
    "\n",
    "        Y_pred = self.fc6(M)\n",
    "\n",
    "        return Y_pred"
   ]
  },
  {
   "cell_type": "code",
   "execution_count": 11,
   "metadata": {},
   "outputs": [],
   "source": [
    "sample_model = DeepAttnMIL_Surv(cluster_num=10)\n",
    "torch.save(sample_model.state_dict(), 'initial_model.pt')"
   ]
  },
  {
   "attachments": {},
   "cell_type": "markdown",
   "metadata": {},
   "source": [
    "# Loading Dataset"
   ]
  },
  {
   "cell_type": "code",
   "execution_count": 5,
   "metadata": {},
   "outputs": [
    {
     "name": "stdout",
     "output_type": "stream",
     "text": [
      "<built-in function len>\n",
      "test stage values: stage ii    19\n",
      "stage i     15\n",
      "Name: stage, dtype: int64\n",
      "train stage values: stage ii    94\n",
      "stage i     75\n",
      "Name: stage, dtype: int64\n",
      "validation stage values: stage ii    15\n",
      "stage i     12\n",
      "Name: stage, dtype: int64\n"
     ]
    },
    {
     "name": "stderr",
     "output_type": "stream",
     "text": [
      "/Users/kasraborazjani/Desktop/UB/Spring 2023/CSE573 Course Project/CSE573-Final-Project/misl_dataset.py:24: SettingWithCopyWarning: \n",
      "A value is trying to be set on a copy of a slice from a DataFrame.\n",
      "Try using .loc[row_indexer,col_indexer] = value instead\n",
      "\n",
      "See the caveats in the documentation: https://pandas.pydata.org/pandas-docs/stable/user_guide/indexing.html#returning-a-view-versus-a-copy\n",
      "  self.labels['stage'] = self.labels.stage.map(lambda x: one_hot_binary(x))\n"
     ]
    }
   ],
   "source": [
    "data_path = './clustered_data.csv'\n",
    "label_path = './BRCA_stages.csv'\n",
    "\n",
    "train_data, valid_data, test_data = train_valid_test_split(data_path, label_path, 0.2, 0.2)"
   ]
  },
  {
   "attachments": {},
   "cell_type": "markdown",
   "metadata": {},
   "source": [
    "Training the Model"
   ]
  },
  {
   "cell_type": "code",
   "execution_count": 13,
   "metadata": {},
   "outputs": [
    {
     "name": "stdout",
     "output_type": "stream",
     "text": [
      "Epoch: 0 ---> Epoch Loss: 0.7078738212585449\n",
      "epoch: 0, Validation loss: 0.6843231916427612, Validation Accuracy: 59.25925925925926%\n",
      "epoch: 1, Validation loss: 0.6824985146522522, Validation Accuracy: 55.55555555555556%\n",
      "epoch: 2, Validation loss: 0.6764241456985474, Validation Accuracy: 59.25925925925926%\n",
      "epoch: 3, Validation loss: 0.6702436804771423, Validation Accuracy: 59.25925925925926%\n",
      "epoch: 4, Validation loss: 0.6733582615852356, Validation Accuracy: 59.25925925925926%\n",
      "epoch: 5, Validation loss: 0.6736778020858765, Validation Accuracy: 59.25925925925926%\n",
      "epoch: 6, Validation loss: 0.6583266258239746, Validation Accuracy: 59.25925925925926%\n",
      "epoch: 7, Validation loss: 0.6434166431427002, Validation Accuracy: 59.25925925925926%\n",
      "epoch: 8, Validation loss: 0.6479774117469788, Validation Accuracy: 59.25925925925926%\n",
      "epoch: 9, Validation loss: 0.6167133450508118, Validation Accuracy: 70.37037037037037%\n",
      "Epoch: 10 ---> Epoch Loss: 0.635219156742096\n",
      "epoch: 10, Validation loss: 0.6223644614219666, Validation Accuracy: 66.66666666666667%\n",
      "epoch: 11, Validation loss: 0.5898539423942566, Validation Accuracy: 66.66666666666667%\n",
      "epoch: 12, Validation loss: 0.5716853141784668, Validation Accuracy: 62.96296296296296%\n",
      "epoch: 13, Validation loss: 0.5020749568939209, Validation Accuracy: 70.37037037037037%\n",
      "epoch: 14, Validation loss: 0.4868633449077606, Validation Accuracy: 70.37037037037037%\n",
      "epoch: 15, Validation loss: 0.4152579605579376, Validation Accuracy: 77.77777777777777%\n",
      "epoch: 16, Validation loss: 0.5336148142814636, Validation Accuracy: 81.48148148148148%\n",
      "epoch: 17, Validation loss: 0.3743520975112915, Validation Accuracy: 81.48148148148148%\n",
      "epoch: 18, Validation loss: 0.24149160087108612, Validation Accuracy: 96.29629629629629%\n",
      "epoch: 19, Validation loss: 0.14234565198421478, Validation Accuracy: 100.0%\n",
      "Epoch: 20 ---> Epoch Loss: 0.1480935961008072\n",
      "epoch: 20, Validation loss: 0.2043725848197937, Validation Accuracy: 92.5925925925926%\n",
      "epoch: 21, Validation loss: 0.17986643314361572, Validation Accuracy: 92.5925925925926%\n",
      "epoch: 22, Validation loss: 0.5126843452453613, Validation Accuracy: 81.48148148148148%\n",
      "epoch: 23, Validation loss: 0.2003621906042099, Validation Accuracy: 88.88888888888889%\n",
      "epoch: 24, Validation loss: 0.12305116653442383, Validation Accuracy: 96.29629629629629%\n",
      "epoch: 25, Validation loss: 0.13365882635116577, Validation Accuracy: 96.29629629629629%\n",
      "epoch: 26, Validation loss: 0.10492730885744095, Validation Accuracy: 96.29629629629629%\n",
      "epoch: 27, Validation loss: 0.23203809559345245, Validation Accuracy: 92.5925925925926%\n",
      "epoch: 28, Validation loss: 0.08788467198610306, Validation Accuracy: 96.29629629629629%\n",
      "epoch: 29, Validation loss: 0.15382827818393707, Validation Accuracy: 92.5925925925926%\n"
     ]
    }
   ],
   "source": [
    "model = DeepAttnMIL_Surv(cluster_num = num_clusters).to(device)\n",
    "model.load_state_dict(torch.load('initial_model.pt'))\n",
    "model.train()\n",
    "\n",
    "train_loss = []\n",
    "loss_valid = []\n",
    "acc_val = []\n",
    "acc_train = []\n",
    "best_loss = float('inf')\n",
    "patience = 7\n",
    "\n",
    "criterion = nn.CrossEntropyLoss()\n",
    "optimizer = torch.optim.SGD(model.parameters(), lr = lr, weight_decay = 0.005, momentum = 0.9)\n",
    "\n",
    "def predict(batch, label):\n",
    "    patient, mask = batch\n",
    "    for cluster_id in range(len(patient)):\n",
    "        patient[cluster_id] = patient[cluster_id].to(device)\n",
    "    mask = mask.to(device)\n",
    "    label = label.to(device)\n",
    "\n",
    "    output = model(patient, mask)\n",
    "    label.unsqueeze_(0)\n",
    "    loss = criterion(output, label)\n",
    "    output = output.to(\"cpu\")\n",
    "    y_pred = np.argmax(np.array(output), axis = 1)\n",
    "    label = label.to(\"cpu\")\n",
    "    label = np.argmax(label, axis = 1)\n",
    "    acc = accuracy(y_pred, label) \n",
    "    return {'loss': loss, 'acc': acc}\n",
    "\n",
    "def accuracy(y_pred, labels):\n",
    "    return np.sum(y_pred == labels.numpy()) / labels.shape[0] * 100\n",
    "\n",
    "for i in range(epochs):\n",
    "    epoch_loss = []\n",
    "    for batch_idx, (batch, label) in enumerate(train_data):\n",
    "        patient, mask = batch\n",
    "        for cluster_id in range(len(patient)):\n",
    "            patient[cluster_id] = patient[cluster_id].to(device)\n",
    "        label = label.to(device)\n",
    "        mask = mask.to(device)\n",
    "\n",
    "        output = model(patient, mask)\n",
    "\n",
    "        label.unsqueeze_(0)\n",
    "        loss = criterion(output, label)\n",
    "        epoch_loss.append(loss)\n",
    "\n",
    "        optimizer.zero_grad()\n",
    "        loss.backward()\n",
    "        optimizer.step()\n",
    "\n",
    "    epoch_loss = torch.stack(epoch_loss)\n",
    "    epoch_loss = epoch_loss.to(\"cpu\").detach().numpy().mean()\n",
    "    train_loss.append(epoch_loss)\n",
    "\n",
    "    if i % 10 == 0:\n",
    "        print(f'Epoch: {i} ---> Epoch Loss: {epoch_loss}')\n",
    "\n",
    "    with torch.no_grad():\n",
    "        train_op = [predict(batch, label) for batch_idx, (batch, label) in enumerate(train_data)]\n",
    "        train_acc = [x['acc'] for x in train_op]\n",
    "        acc_train.append((np.array(train_acc)).mean())\n",
    "        \n",
    "        valid_op = [predict(batch, label) for batch_idx, (batch, label) in enumerate(valid_data)]\n",
    "        batch_losses = [x['loss'] for x in valid_op]\n",
    "        valid_loss = torch.stack(batch_losses).mean()\n",
    "        batch_accs = [x['acc'] for x in valid_op]\n",
    "        valid_acc = (np.array(batch_accs)).mean()\n",
    "        acc_val.append(valid_acc)\n",
    "        loss_valid.append(valid_loss)\n",
    "        if i % 10 == 0:\n",
    "            print(f\"epoch: {i}, Validation loss: {valid_loss}, Validation Accuracy: {valid_acc}%\")\n",
    "    \n",
    "    # Performing Early stopping\n",
    "    if valid_loss < best_loss:\n",
    "        best_loss = valid_loss\n",
    "        best_model = model.state_dict()\n",
    "        early_stop_count = 0\n",
    "    else:\n",
    "        early_stop_count += 1\n",
    "        if early_stop_count >= patience:\n",
    "            print(f\"Validation loss hasn't improved in {patience} epochs. Stopping early!!!\")\n",
    "            break"
   ]
  },
  {
   "attachments": {},
   "cell_type": "markdown",
   "metadata": {},
   "source": [
    "Testing the Model"
   ]
  },
  {
   "cell_type": "code",
   "execution_count": 14,
   "metadata": {},
   "outputs": [
    {
     "name": "stdout",
     "output_type": "stream",
     "text": [
      "Test Loss: 0.8206048011779785, Test Accuracy: 82.3529411764706\n"
     ]
    }
   ],
   "source": [
    "\n",
    "# create a new instance of your model\n",
    "model_test = DeepAttnMIL_Surv(num_clusters).to(device)\n",
    "\n",
    "# load the best_model weights into the new instance\n",
    "model_test.load_state_dict(best_model)\n",
    "\n",
    "# set the model to evaluation mode\n",
    "model_test.eval()\n",
    "\n",
    "def test_predict(batch, label):\n",
    "    patient, mask = batch\n",
    "    for cluster_id in range(len(patient)):\n",
    "        patient[cluster_id] = patient[cluster_id].to(device)\n",
    "    mask = mask.to(device)\n",
    "    label = label.to(device)\n",
    "\n",
    "    output = model_test(patient, mask)\n",
    "    label.unsqueeze_(0)\n",
    "    loss = criterion(output, label)\n",
    "    output = output.to(\"cpu\")\n",
    "    y_pred = np.argmax(np.array(output), axis = 1)\n",
    "    label = label.to(\"cpu\")\n",
    "    label = np.argmax(label, axis = 1)\n",
    "    acc = accuracy(y_pred, label) \n",
    "    return {'loss': loss, 'acc': acc, 'pred': y_pred, 'true': label}\n",
    "\n",
    "with torch.no_grad():\n",
    "    test_op = [test_predict(batch, label) for batch_idx, (batch, label) in enumerate(test_data)]\n",
    "    batch_losses = [x['loss'] for x in test_op]\n",
    "    test_loss = torch.stack(batch_losses).mean()\n",
    "    batch_accs = [x['acc'] for x in test_op]\n",
    "    test_acc = (np.array(batch_accs)).mean()\n",
    "\n",
    "print(f'Test Loss: {test_loss}, Test Accuracy: {test_acc}')"
   ]
  },
  {
   "attachments": {},
   "cell_type": "markdown",
   "metadata": {},
   "source": [
    "Plotting Loss"
   ]
  },
  {
   "cell_type": "code",
   "execution_count": 31,
   "metadata": {},
   "outputs": [
    {
     "data": {
      "image/png": "[encoded data removed]",
      "text/plain": [
       "<Figure size 640x480 with 1 Axes>"
      ]
     },
     "metadata": {},
     "output_type": "display_data"
    }
   ],
   "source": [
    "sns.set(style = \"darkgrid\") # Background Theme\n",
    "\n",
    "plt.plot(train_loss)\n",
    "# loss_valid = torch.stack(loss_valid)\n",
    "# loss_valid = loss_valid.to('cpu')\n",
    "plt.plot(loss_valid)\n",
    "plt.legend([\"Training\", \"Validation\"], loc =\"lower right\")\n",
    "plt.xlabel(\"epochs\")\n",
    "plt.title(\"Training Vs Validation\")\n",
    "plt.ylabel(\"Loss\")\n",
    "plt.savefig('./train_val_loss.png')"
   ]
  },
  {
   "attachments": {},
   "cell_type": "markdown",
   "metadata": {},
   "source": [
    "Plotting Accuracy"
   ]
  },
  {
   "cell_type": "code",
   "execution_count": 32,
   "metadata": {},
   "outputs": [
    {
     "data": {
      "image/png": "[encoded data removed]",
      "text/plain": [
       "<Figure size 640x480 with 1 Axes>"
      ]
     },
     "metadata": {},
     "output_type": "display_data"
    }
   ],
   "source": [
    "plt.plot(acc_train)\n",
    "plt.plot(acc_val)\n",
    "plt.legend([\"Training\", \"Validation\"], loc =\"lower right\")\n",
    "plt.xlabel(\"epochs\")\n",
    "plt.title(\"Training Vs Validation\")\n",
    "plt.ylabel(\"Accuracy\")\n",
    "plt.savefig('train_val_acc.png')"
   ]
  },
  {
   "attachments": {},
   "cell_type": "markdown",
   "metadata": {},
   "source": [
    "Confusion Matrix"
   ]
  },
  {
   "cell_type": "code",
   "execution_count": 17,
   "metadata": {},
   "outputs": [
    {
     "data": {
      "text/plain": [
       "array([[1],\n",
       "       [1],\n",
       "       [1],\n",
       "       [1],\n",
       "       [0],\n",
       "       [1],\n",
       "       [1],\n",
       "       [0],\n",
       "       [0],\n",
       "       [0],\n",
       "       [0],\n",
       "       [1],\n",
       "       [1],\n",
       "       [0],\n",
       "       [0],\n",
       "       [0],\n",
       "       [0],\n",
       "       [0],\n",
       "       [0],\n",
       "       [0],\n",
       "       [0],\n",
       "       [0],\n",
       "       [0],\n",
       "       [0],\n",
       "       [0],\n",
       "       [1],\n",
       "       [0],\n",
       "       [0],\n",
       "       [1],\n",
       "       [0],\n",
       "       [0],\n",
       "       [1],\n",
       "       [1],\n",
       "       [1]])"
      ]
     },
     "execution_count": 17,
     "metadata": {},
     "output_type": "execute_result"
    }
   ],
   "source": [
    "pred = np.array([x['pred'] for x in test_op])\n",
    "true = np.stack([x['true'] for x in test_op])"
   ]
  },
  {
   "cell_type": "code",
   "execution_count": 37,
   "metadata": {},
   "outputs": [
    {
     "data": {
      "image/png": "[encoded data removed]",
      "text/plain": [
       "<Figure size 640x480 with 2 Axes>"
      ]
     },
     "metadata": {},
     "output_type": "display_data"
    }
   ],
   "source": [
    "cm = confusion_matrix(true, pred)\n",
    "sns.heatmap(cm, annot=True, cmap='Blues')\n",
    "plt.xlabel('Predicted')\n",
    "plt.ylabel('True')\n",
    "plt.title(\"---------- Testing Confusion Matrix ----------\")\n",
    "# plt.show()\n",
    "plt.savefig('./conf_mat.png')"
   ]
  },
  {
   "cell_type": "code",
   "execution_count": 38,
   "metadata": {},
   "outputs": [
    {
     "name": "stdout",
     "output_type": "stream",
     "text": [
      "F1 score: 0.8125000000000001\n",
      "Recall: 0.6842105263157895\n",
      "Precision score: 1.0\n"
     ]
    }
   ],
   "source": [
    "from sklearn.metrics import f1_score, recall_score, precision_score\n",
    "\n",
    "print(\"F1 score: {}\".format(f1_score(true, pred)))\n",
    "print(\"Recall: {}\".format(recall_score(true, pred)))\n",
    "print(\"Precision score: {}\".format(precision_score(true, pred)))"
   ]
  }
 ],
 "metadata": {
  "kernelspec": {
   "display_name": "Python 3.10.9 ('mmfl')",
   "language": "python",
   "name": "python3"
  },
  "language_info": {
   "codemirror_mode": {
    "name": "ipython",
    "version": 3
   },
   "file_extension": ".py",
   "mimetype": "text/x-python",
   "name": "python",
   "nbconvert_exporter": "python",
   "pygments_lexer": "ipython3",
   "version": "3.10.6"
  },
  "orig_nbformat": 4,
  "vscode": {
   "interpreter": {
    "hash": "910b217ae2be209feb0550a453476b9fbb23d00fa51caa8a263311d4917bb429"
   }
  }
 },
 "nbformat": 4,
 "nbformat_minor": 2
}
